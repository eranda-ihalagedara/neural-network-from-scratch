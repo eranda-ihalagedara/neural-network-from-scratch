{
 "cells": [
  {
   "cell_type": "markdown",
   "id": "4bb87014-4f60-4a70-9e54-fee389c3f0f2",
   "metadata": {},
   "source": [
    "# MNIST Data Classifier"
   ]
  },
  {
   "cell_type": "markdown",
   "id": "a67c4762-24dd-45d5-9181-a63e97765365",
   "metadata": {},
   "source": [
    "## Background\n",
    "This is an example use of the custom neural network pakcage `NN` in the repository [machine-learning-projects](https://github.com/eranda-ihalagedara/machine-learning-projects/tree/main/Neural%20Network%20From%20Scratch). Before, running this notebook, make sure you have the package folder `NN` in your working directory along with the notebook."
   ]
  },
  {
   "cell_type": "markdown",
   "id": "1ac9b62d-0901-4643-84ee-48199402031d",
   "metadata": {},
   "source": [
    "## Dataset\n",
    "MNIST dataset stands for Modified National Institute of Standards and Technology dataset. It is a large set of labelled images of handwritten digits. Each image is of 28x28 pixels of size in grayscale. It is already split in to 60000 training images and 10000 test images."
   ]
  },
  {
   "cell_type": "markdown",
   "id": "81badb8e-9a86-4824-addf-796d26d8feb9",
   "metadata": {},
   "source": [
    "## Importing Required Libraries\n",
    "This notebook uses the following additional libaries. Make sure, you have installed them in your Python environment.  \n",
    "\n",
    "- `scikit-learn`:\n",
    "  To get the dataset and one-hot encode the labels\n",
    "- `numpy`:\n",
    "  To make input data to be `numpy.ndarray`s and reshaping data to be compatible with the `NN` package\n",
    "- `matplotlib`:\n",
    "  For plotting"
   ]
  },
  {
   "cell_type": "code",
   "execution_count": 1,
   "id": "cfb4d5b8-42ce-48e1-a39f-a6125b98301f",
   "metadata": {},
   "outputs": [],
   "source": [
    "from sklearn.datasets import fetch_openml\n",
    "from sklearn.preprocessing import OneHotEncoder\n",
    "from matplotlib import pyplot as plt\n",
    "import numpy as np\n",
    "import NN as nn"
   ]
  },
  {
   "cell_type": "markdown",
   "id": "3fac8a44-4ca6-45f8-ad13-8d1aaf090129",
   "metadata": {},
   "source": [
    "## Prepare Dataset"
   ]
  },
  {
   "cell_type": "markdown",
   "id": "dcb864f0-b593-4a10-a468-388d1507b3b6",
   "metadata": {},
   "source": [
    "### Fetch data\n",
    "We can fetch the MNIST dataset with `fetch_openml` and check the data type and size."
   ]
  },
  {
   "cell_type": "code",
   "execution_count": 2,
   "id": "5d82c63b-822b-4584-aec5-2c6e56d28e16",
   "metadata": {},
   "outputs": [],
   "source": [
    "mnist = fetch_openml('mnist_784', as_frame=False, parser='auto')\n",
    "\n",
    "X = mnist.data\n",
    "y = mnist.target"
   ]
  },
  {
   "cell_type": "code",
   "execution_count": 3,
   "id": "1107626c-5505-43d3-ac2a-58f0a1ad34dc",
   "metadata": {},
   "outputs": [
    {
     "data": {
      "text/plain": [
       "(numpy.ndarray, numpy.ndarray)"
      ]
     },
     "execution_count": 3,
     "metadata": {},
     "output_type": "execute_result"
    }
   ],
   "source": [
    "type(X), type(y)"
   ]
  },
  {
   "cell_type": "code",
   "execution_count": 4,
   "id": "118adf81-117c-470f-9b7a-af681d6aa388",
   "metadata": {},
   "outputs": [
    {
     "data": {
      "text/plain": [
       "((70000, 784), (70000,))"
      ]
     },
     "execution_count": 4,
     "metadata": {},
     "output_type": "execute_result"
    }
   ],
   "source": [
    "X.shape, y.shape"
   ]
  },
  {
   "cell_type": "markdown",
   "id": "2dbc02f0-cb92-4db5-8c30-6f9fbcad786e",
   "metadata": {},
   "source": [
    "There are `70000` samples with `784` pixels in each image."
   ]
  },
  {
   "cell_type": "markdown",
   "id": "ff73ec6b-a4f4-46ef-8a57-d721ebbe8911",
   "metadata": {},
   "source": [
    "### Encode Labels  \n",
    "Since this is a classification, we have to encode the labels. We will use `OneHotEncoder` of `scikit-learn` package. It gives one-hot enoded set of labels. Check out the [OneHotEncoder](https://scikit-learn.org/stable/modules/generated/sklearn.preprocessing.OneHotEncoder.html) and [One-hot](https://en.wikipedia.org/wiki/One-hot)"
   ]
  },
  {
   "cell_type": "code",
   "execution_count": 5,
   "id": "63867bc8-bee2-4b1e-946d-091e47dfd734",
   "metadata": {},
   "outputs": [],
   "source": [
    "encoder = OneHotEncoder(sparse_output=False)"
   ]
  },
  {
   "cell_type": "markdown",
   "id": "f7fcc273-01bb-4161-8416-4f341ba15b2d",
   "metadata": {},
   "source": [
    "Note that the labels, `y`, is a 1D array in shape `(70000,)`. See what happens when we try to fit labels to the encoder."
   ]
  },
  {
   "cell_type": "code",
   "execution_count": 6,
   "id": "fe86824b-519d-4d11-bcd7-53c36f0e7840",
   "metadata": {},
   "outputs": [
    {
     "name": "stdout",
     "output_type": "stream",
     "text": [
      "Expected 2D array, got 1D array instead:\n",
      "array=['5' '0' '4' ... '4' '5' '6'].\n",
      "Reshape your data either using array.reshape(-1, 1) if your data has a single feature or array.reshape(1, -1) if it contains a single sample.\n"
     ]
    }
   ],
   "source": [
    "try:\n",
    "    encoder.fit(y)\n",
    "except Exception as e:\n",
    "    print (e)"
   ]
  },
  {
   "cell_type": "markdown",
   "id": "1bd77a2f-aeae-4bb8-9101-9f14f1bfac02",
   "metadata": {},
   "source": [
    "We have to make `y` a 2D array with `.reshape(-1,1)`"
   ]
  },
  {
   "cell_type": "code",
   "execution_count": 7,
   "id": "69d63cab-5487-43a1-b327-cfcb931d4428",
   "metadata": {},
   "outputs": [
    {
     "data": {
      "text/html": [
       "<style>#sk-container-id-1 {color: black;background-color: white;}#sk-container-id-1 pre{padding: 0;}#sk-container-id-1 div.sk-toggleable {background-color: white;}#sk-container-id-1 label.sk-toggleable__label {cursor: pointer;display: block;width: 100%;margin-bottom: 0;padding: 0.3em;box-sizing: border-box;text-align: center;}#sk-container-id-1 label.sk-toggleable__label-arrow:before {content: \"▸\";float: left;margin-right: 0.25em;color: #696969;}#sk-container-id-1 label.sk-toggleable__label-arrow:hover:before {color: black;}#sk-container-id-1 div.sk-estimator:hover label.sk-toggleable__label-arrow:before {color: black;}#sk-container-id-1 div.sk-toggleable__content {max-height: 0;max-width: 0;overflow: hidden;text-align: left;background-color: #f0f8ff;}#sk-container-id-1 div.sk-toggleable__content pre {margin: 0.2em;color: black;border-radius: 0.25em;background-color: #f0f8ff;}#sk-container-id-1 input.sk-toggleable__control:checked~div.sk-toggleable__content {max-height: 200px;max-width: 100%;overflow: auto;}#sk-container-id-1 input.sk-toggleable__control:checked~label.sk-toggleable__label-arrow:before {content: \"▾\";}#sk-container-id-1 div.sk-estimator input.sk-toggleable__control:checked~label.sk-toggleable__label {background-color: #d4ebff;}#sk-container-id-1 div.sk-label input.sk-toggleable__control:checked~label.sk-toggleable__label {background-color: #d4ebff;}#sk-container-id-1 input.sk-hidden--visually {border: 0;clip: rect(1px 1px 1px 1px);clip: rect(1px, 1px, 1px, 1px);height: 1px;margin: -1px;overflow: hidden;padding: 0;position: absolute;width: 1px;}#sk-container-id-1 div.sk-estimator {font-family: monospace;background-color: #f0f8ff;border: 1px dotted black;border-radius: 0.25em;box-sizing: border-box;margin-bottom: 0.5em;}#sk-container-id-1 div.sk-estimator:hover {background-color: #d4ebff;}#sk-container-id-1 div.sk-parallel-item::after {content: \"\";width: 100%;border-bottom: 1px solid gray;flex-grow: 1;}#sk-container-id-1 div.sk-label:hover label.sk-toggleable__label {background-color: #d4ebff;}#sk-container-id-1 div.sk-serial::before {content: \"\";position: absolute;border-left: 1px solid gray;box-sizing: border-box;top: 0;bottom: 0;left: 50%;z-index: 0;}#sk-container-id-1 div.sk-serial {display: flex;flex-direction: column;align-items: center;background-color: white;padding-right: 0.2em;padding-left: 0.2em;position: relative;}#sk-container-id-1 div.sk-item {position: relative;z-index: 1;}#sk-container-id-1 div.sk-parallel {display: flex;align-items: stretch;justify-content: center;background-color: white;position: relative;}#sk-container-id-1 div.sk-item::before, #sk-container-id-1 div.sk-parallel-item::before {content: \"\";position: absolute;border-left: 1px solid gray;box-sizing: border-box;top: 0;bottom: 0;left: 50%;z-index: -1;}#sk-container-id-1 div.sk-parallel-item {display: flex;flex-direction: column;z-index: 1;position: relative;background-color: white;}#sk-container-id-1 div.sk-parallel-item:first-child::after {align-self: flex-end;width: 50%;}#sk-container-id-1 div.sk-parallel-item:last-child::after {align-self: flex-start;width: 50%;}#sk-container-id-1 div.sk-parallel-item:only-child::after {width: 0;}#sk-container-id-1 div.sk-dashed-wrapped {border: 1px dashed gray;margin: 0 0.4em 0.5em 0.4em;box-sizing: border-box;padding-bottom: 0.4em;background-color: white;}#sk-container-id-1 div.sk-label label {font-family: monospace;font-weight: bold;display: inline-block;line-height: 1.2em;}#sk-container-id-1 div.sk-label-container {text-align: center;}#sk-container-id-1 div.sk-container {/* jupyter's `normalize.less` sets `[hidden] { display: none; }` but bootstrap.min.css set `[hidden] { display: none !important; }` so we also need the `!important` here to be able to override the default hidden behavior on the sphinx rendered scikit-learn.org. See: https://github.com/scikit-learn/scikit-learn/issues/21755 */display: inline-block !important;position: relative;}#sk-container-id-1 div.sk-text-repr-fallback {display: none;}</style><div id=\"sk-container-id-1\" class=\"sk-top-container\"><div class=\"sk-text-repr-fallback\"><pre>OneHotEncoder(sparse_output=False)</pre><b>In a Jupyter environment, please rerun this cell to show the HTML representation or trust the notebook. <br />On GitHub, the HTML representation is unable to render, please try loading this page with nbviewer.org.</b></div><div class=\"sk-container\" hidden><div class=\"sk-item\"><div class=\"sk-estimator sk-toggleable\"><input class=\"sk-toggleable__control sk-hidden--visually\" id=\"sk-estimator-id-1\" type=\"checkbox\" checked><label for=\"sk-estimator-id-1\" class=\"sk-toggleable__label sk-toggleable__label-arrow\">OneHotEncoder</label><div class=\"sk-toggleable__content\"><pre>OneHotEncoder(sparse_output=False)</pre></div></div></div></div></div>"
      ],
      "text/plain": [
       "OneHotEncoder(sparse_output=False)"
      ]
     },
     "execution_count": 7,
     "metadata": {},
     "output_type": "execute_result"
    }
   ],
   "source": [
    "y = y.reshape(-1,1)\n",
    "encoder.fit(y)"
   ]
  },
  {
   "cell_type": "markdown",
   "id": "5bd53f98-87f9-4198-afc7-c1f9927afa5d",
   "metadata": {},
   "source": [
    "Now we can encode the labels with `.transform()`"
   ]
  },
  {
   "cell_type": "code",
   "execution_count": 8,
   "id": "904be9f1-b2c8-4ff8-ad16-bf9e6f1edf19",
   "metadata": {},
   "outputs": [
    {
     "data": {
      "text/plain": [
       "(70000, 10)"
      ]
     },
     "execution_count": 8,
     "metadata": {},
     "output_type": "execute_result"
    }
   ],
   "source": [
    "y_enc = encoder.transform(y)\n",
    "y_enc.shape"
   ]
  },
  {
   "cell_type": "markdown",
   "id": "41e6620d-37b9-4fa7-9eab-92a2b098a144",
   "metadata": {},
   "source": [
    "### Reshape Data\n",
    "Recall, we have to reshape data such that the features are along rows and samples are along columns. Right now, each sample is in the rows. We can change this by simply transposing the `ndarray`."
   ]
  },
  {
   "cell_type": "code",
   "execution_count": 9,
   "id": "fc0e2538-7c2a-42e1-b193-2a9e581dc113",
   "metadata": {},
   "outputs": [
    {
     "data": {
      "text/plain": [
       "((784, 70000), (10, 70000))"
      ]
     },
     "execution_count": 9,
     "metadata": {},
     "output_type": "execute_result"
    }
   ],
   "source": [
    "X = X.T\n",
    "y_enc = y_enc.T\n",
    "X.shape, y_enc.shape"
   ]
  },
  {
   "cell_type": "markdown",
   "id": "8423f5e8-a624-437d-ae97-5d79e1dfe9d3",
   "metadata": {},
   "source": [
    "## Train-Test Split\n",
    "Before training the model we have to keep aside test data. This is already done in the dataset as the last 10000."
   ]
  },
  {
   "cell_type": "code",
   "execution_count": 10,
   "id": "ee967408-54b0-406e-9c81-26c5b5732df0",
   "metadata": {},
   "outputs": [],
   "source": [
    "X_train, X_test = X[:, :60000], X[:, 60000:]\n",
    "y_train, y_test = y_enc[:, :60000], y[:, 60000:]"
   ]
  },
  {
   "cell_type": "code",
   "execution_count": 11,
   "id": "cb57dc72-0b5b-4e92-a4f3-0ba627d850e5",
   "metadata": {},
   "outputs": [],
   "source": [
    "X_train, X_test = X[:, :60000], X[:, 60000:]\n",
    "y_train, y_test = y_enc[:, :60000], y_enc[:, 60000:]"
   ]
  },
  {
   "cell_type": "markdown",
   "id": "339f17f4-d5f0-4968-bae2-93f2383f7de4",
   "metadata": {},
   "source": [
    "## View Images\n",
    "Before we begin training, let's view the handwritten images"
   ]
  },
  {
   "cell_type": "code",
   "execution_count": 12,
   "id": "2eed3546-0e46-43f8-99de-c5909109e4ce",
   "metadata": {},
   "outputs": [
    {
     "data": {
      "image/png": "[encoded data removed]",
      "text/plain": [
       "<Figure size 200x200 with 1 Axes>"
      ]
     },
     "metadata": {},
     "output_type": "display_data"
    }
   ],
   "source": [
    "def plot_image(digit):\n",
    "    plt.figure(figsize=(2,2))\n",
    "    plt.imshow(digit.reshape((28,28)), cmap='gray')\n",
    "    plt.axis('off')\n",
    "\n",
    "plot_image(X[:,0])"
   ]
  },
  {
   "cell_type": "code",
   "execution_count": 13,
   "id": "c6901e68-1bcb-4473-9f81-10a0e9ef30ec",
   "metadata": {},
   "outputs": [
    {
     "data": {
      "text/plain": [
       "array(['5'], dtype=object)"
      ]
     },
     "execution_count": 13,
     "metadata": {},
     "output_type": "execute_result"
    }
   ],
   "source": [
    "y[0]"
   ]
  },
  {
   "cell_type": "markdown",
   "id": "30cf1dd7-87e5-49a8-91f0-6e21c53b8fb6",
   "metadata": {},
   "source": [
    "## Build a Model\n",
    "For MNIST classification, let's define a model with the following specifications:\n",
    "- A Fully Connected layer of size 32 with `relu` activation\n",
    "- Two Fully Connected layers, each of size 64 with `relu` activation\n",
    "- A Softmax layer of size 10, since there are 10 different classes and one-hot encoding has produced a vector of length 10\n",
    "\n",
    "**Important: Note that the first layer has to either define the `input_size`, which is 784 in this case, or the layer size should match the input vector number of features. Further last layer should match the label size**\n",
    "\n",
    "We will use a learning rate of `0.001` (default is `0.0001`) and a learning rate decay of `0.99` (default is `1`)"
   ]
  },
  {
   "cell_type": "code",
   "execution_count": 14,
   "id": "c9268c1b-a966-43e1-96c5-46bec3fa1ca9",
   "metadata": {},
   "outputs": [],
   "source": [
    "model = nn.Model([\n",
    "    nn.Fully_Connected(32, 'relu', input_size=784),\n",
    "    nn.Fully_Connected(64, 'relu'),\n",
    "    nn.Fully_Connected(64, 'relu'),\n",
    "    nn.Softmax(10)\n",
    "], learning_rate=0.001, lr_decay=0.99)"
   ]
  },
  {
   "cell_type": "markdown",
   "id": "1d9bea2e-e952-4ff9-abc6-7327eba1c7b2",
   "metadata": {},
   "source": [
    "## Model Training\n",
    "\n",
    "To train the model, we can use `mode.train()` as below. `cv` is for the cross-validation set which is optional. It should be tuple or list type, as input and labels. Here, the first half of the test set we put aside earlier is used for `cv`. The weights are updated using stochastic gradient descent. You can define the mini-batch size with `batch_size` argument in `train()` method. Default value is 32."
   ]
  },
  {
   "cell_type": "code",
   "execution_count": 15,
   "id": "ad7de7d8-0130-4452-8664-8b48f9aab178",
   "metadata": {},
   "outputs": [
    {
     "name": "stdout",
     "output_type": "stream",
     "text": [
      "epoch: 1 ================================================== 100.00 / 100 \tloss: 2.3139 \taccuracy: 0.3204 \n",
      "epoch: 2 ================================================== 100.00 / 100 \tloss: 2.1613 \taccuracy: 0.3586 \n",
      "epoch: 3 ================================================== 100.00 / 100 \tloss: 2.1253 \taccuracy: 0.4001 \n",
      "epoch: 4 ================================================== 100.00 / 100 \tloss: 1.6547 \taccuracy: 0.4212 \n",
      "epoch: 5 ================================================== 100.00 / 100 \tloss: 1.4781 \taccuracy: 0.5136 \n",
      "epoch: 6 ================================================== 100.00 / 100 \tloss: 1.4186 \taccuracy: 0.5397 \n",
      "epoch: 7 ================================================== 100.00 / 100 \tloss: 1.3505 \taccuracy: 0.5595 \n",
      "epoch: 8 ================================================== 100.00 / 100 \tloss: 1.2959 \taccuracy: 0.5813 \n",
      "epoch: 9 ================================================== 100.00 / 100 \tloss: 1.2311 \taccuracy: 0.5995 \n",
      "epoch: 10 ================================================== 100.00 / 100 \tloss: 1.1896 \taccuracy: 0.6126 \n",
      "epoch: 11 ================================================== 100.00 / 100 \tloss: 1.1482 \taccuracy: 0.6264 \n",
      "epoch: 12 ================================================== 100.00 / 100 \tloss: 1.1178 \taccuracy: 0.6364 \n",
      "epoch: 13 ================================================== 100.00 / 100 \tloss: 1.0952 \taccuracy: 0.6444 \n",
      "epoch: 14 ================================================== 100.00 / 100 \tloss: 1.0541 \taccuracy: 0.6565 \n",
      "epoch: 15 ================================================== 100.00 / 100 \tloss: 1.0283 \taccuracy: 0.6652 \n",
      "epoch: 16 ================================================== 100.00 / 100 \tloss: 1.0036 \taccuracy: 0.6722 \n",
      "epoch: 17 ================================================== 100.00 / 100 \tloss: 0.9862 \taccuracy: 0.6758 \n",
      "epoch: 18 ================================================== 100.00 / 100 \tloss: 0.9678 \taccuracy: 0.6842 \n",
      "epoch: 19 ================================================== 100.00 / 100 \tloss: 0.9476 \taccuracy: 0.6896 \n",
      "epoch: 20 ================================================== 100.00 / 100 \tloss: 0.9247 \taccuracy: 0.6981 \n",
      "epoch: 21 ================================================== 100.00 / 100 \tloss: 0.9023 \taccuracy: 0.7045 \n",
      "epoch: 22 ================================================== 100.00 / 100 \tloss: 0.8822 \taccuracy: 0.7128 \n",
      "epoch: 23 ================================================== 100.00 / 100 \tloss: 0.8628 \taccuracy: 0.7200 \n",
      "epoch: 24 ================================================== 100.00 / 100 \tloss: 0.8420 \taccuracy: 0.7251 \n",
      "epoch: 25 ================================================== 100.00 / 100 \tloss: 0.8296 \taccuracy: 0.7320 \n",
      "epoch: 26 ================================================== 100.00 / 100 \tloss: 0.8156 \taccuracy: 0.7373 \n",
      "epoch: 27 ================================================== 100.00 / 100 \tloss: 0.8022 \taccuracy: 0.7419 \n",
      "epoch: 28 ================================================== 100.00 / 100 \tloss: 0.7913 \taccuracy: 0.7465 \n",
      "epoch: 29 ================================================== 100.00 / 100 \tloss: 0.7749 \taccuracy: 0.7532 \n",
      "epoch: 30 ================================================== 100.00 / 100 \tloss: 0.7635 \taccuracy: 0.7572 \n",
      "epoch: 31 ================================================== 100.00 / 100 \tloss: 0.7516 \taccuracy: 0.7603 \n",
      "epoch: 32 ================================================== 100.00 / 100 \tloss: 0.7416 \taccuracy: 0.7655 \n",
      "epoch: 33 ================================================== 100.00 / 100 \tloss: 0.7265 \taccuracy: 0.7708 \n",
      "epoch: 34 ================================================== 100.00 / 100 \tloss: 0.7158 \taccuracy: 0.7742 \n",
      "epoch: 35 ================================================== 100.00 / 100 \tloss: 0.7080 \taccuracy: 0.7788 \n",
      "epoch: 36 ================================================== 100.00 / 100 \tloss: 0.6999 \taccuracy: 0.7818 \n",
      "epoch: 37 ================================================== 100.00 / 100 \tloss: 0.6915 \taccuracy: 0.7876 \n",
      "epoch: 38 ================================================== 100.00 / 100 \tloss: 0.6879 \taccuracy: 0.7894 \n",
      "epoch: 39 ================================================== 100.00 / 100 \tloss: 0.6796 \taccuracy: 0.7935 \n",
      "epoch: 40 ================================================== 100.00 / 100 \tloss: 0.6765 \taccuracy: 0.7978 \n",
      "epoch: 41 ================================================== 100.00 / 100 \tloss: 0.6706 \taccuracy: 0.8010 \n",
      "epoch: 42 ================================================== 100.00 / 100 \tloss: 0.6665 \taccuracy: 0.8034 \n",
      "epoch: 43 ================================================== 100.00 / 100 \tloss: 0.6617 \taccuracy: 0.8086 \n",
      "epoch: 44 ================================================== 100.00 / 100 \tloss: 0.6607 \taccuracy: 0.8133 \n",
      "epoch: 45 ================================================== 100.00 / 100 \tloss: 0.6584 \taccuracy: 0.8133 \n",
      "epoch: 46 ================================================== 100.00 / 100 \tloss: 0.6538 \taccuracy: 0.8134 \n",
      "epoch: 47 ================================================== 100.00 / 100 \tloss: 0.6485 \taccuracy: 0.8083 \n",
      "epoch: 48 ================================================== 100.00 / 100 \tloss: 0.6449 \taccuracy: 0.8088 \n",
      "epoch: 49 ================================================== 100.00 / 100 \tloss: 0.6402 \taccuracy: 0.8098 \n",
      "epoch: 50 ================================================== 100.00 / 100 \tloss: 0.6382 \taccuracy: 0.8059 \n",
      "epoch: 51 ================================================== 100.00 / 100 \tloss: 0.6344 \taccuracy: 0.8063 \n",
      "epoch: 52 ================================================== 100.00 / 100 \tloss: 0.6292 \taccuracy: 0.8071 \n",
      "epoch: 53 ================================================== 100.00 / 100 \tloss: 0.6192 \taccuracy: 0.8120 \n",
      "epoch: 54 ================================================== 100.00 / 100 \tloss: 0.6202 \taccuracy: 0.8131 \n",
      "epoch: 55 ================================================== 100.00 / 100 \tloss: 0.6119 \taccuracy: 0.8189 \n",
      "epoch: 56 ================================================== 100.00 / 100 \tloss: 0.6026 \taccuracy: 0.8213 \n",
      "epoch: 57 ================================================== 100.00 / 100 \tloss: 0.5995 \taccuracy: 0.8238 \n",
      "epoch: 58 ================================================== 100.00 / 100 \tloss: 0.5974 \taccuracy: 0.8245 \n",
      "epoch: 59 ================================================== 100.00 / 100 \tloss: 0.5931 \taccuracy: 0.8274 \n",
      "epoch: 60 ================================================== 100.00 / 100 \tloss: 0.5903 \taccuracy: 0.8281 \n",
      "epoch: 61 ================================================== 100.00 / 100 \tloss: 0.5853 \taccuracy: 0.8312 \n",
      "epoch: 62 ================================================== 100.00 / 100 \tloss: 0.5810 \taccuracy: 0.8334 \n",
      "epoch: 63 ================================================== 100.00 / 100 \tloss: 0.5728 \taccuracy: 0.8356 \n",
      "epoch: 64 ================================================== 100.00 / 100 \tloss: 0.5686 \taccuracy: 0.8363 \n",
      "epoch: 65 ================================================== 100.00 / 100 \tloss: 0.5637 \taccuracy: 0.8374 \n",
      "epoch: 66 ================================================== 100.00 / 100 \tloss: 0.5607 \taccuracy: 0.8399 \n",
      "epoch: 67 ================================================== 100.00 / 100 \tloss: 0.5555 \taccuracy: 0.8419 \n",
      "epoch: 68 ================================================== 100.00 / 100 \tloss: 0.5552 \taccuracy: 0.8432 \n",
      "epoch: 69 ================================================== 100.00 / 100 \tloss: 0.5557 \taccuracy: 0.8445 \n",
      "epoch: 70 ================================================== 100.00 / 100 \tloss: 0.5474 \taccuracy: 0.8455 \n",
      "epoch: 71 ================================================== 100.00 / 100 \tloss: 0.5472 \taccuracy: 0.8465 \n",
      "epoch: 72 ================================================== 100.00 / 100 \tloss: 0.5430 \taccuracy: 0.8470 \n",
      "epoch: 73 ================================================== 100.00 / 100 \tloss: 0.5404 \taccuracy: 0.8479 \n",
      "epoch: 74 ================================================== 100.00 / 100 \tloss: 0.5385 \taccuracy: 0.8477 \n",
      "epoch: 75 ================================================== 100.00 / 100 \tloss: 0.5342 \taccuracy: 0.8486 \n",
      "epoch: 76 ================================================== 100.00 / 100 \tloss: 0.5342 \taccuracy: 0.8501 \n",
      "epoch: 77 ================================================== 100.00 / 100 \tloss: 0.5299 \taccuracy: 0.8512 \n",
      "epoch: 78 ================================================== 100.00 / 100 \tloss: 0.5294 \taccuracy: 0.8520 \n",
      "epoch: 79 ================================================== 100.00 / 100 \tloss: 0.5263 \taccuracy: 0.8527 \n",
      "epoch: 80 ================================================== 100.00 / 100 \tloss: 0.5221 \taccuracy: 0.8531 \n",
      "epoch: 81 ================================================== 100.00 / 100 \tloss: 0.5184 \taccuracy: 0.8540 \n",
      "epoch: 82 ================================================== 100.00 / 100 \tloss: 0.5149 \taccuracy: 0.8550 \n",
      "epoch: 83 ================================================== 100.00 / 100 \tloss: 0.5132 \taccuracy: 0.8555 \n",
      "epoch: 84 ================================================== 100.00 / 100 \tloss: 0.5119 \taccuracy: 0.8560 \n",
      "epoch: 85 ================================================== 100.00 / 100 \tloss: 0.5107 \taccuracy: 0.8565 \n",
      "epoch: 86 ================================================== 100.00 / 100 \tloss: 0.5084 \taccuracy: 0.8569 \n",
      "epoch: 87 ================================================== 100.00 / 100 \tloss: 0.5072 \taccuracy: 0.8570 \n",
      "epoch: 88 ================================================== 100.00 / 100 \tloss: 0.5047 \taccuracy: 0.8581 \n",
      "epoch: 89 ================================================== 100.00 / 100 \tloss: 0.5034 \taccuracy: 0.8590 \n",
      "epoch: 90 ================================================== 100.00 / 100 \tloss: 0.5004 \taccuracy: 0.8596 \n",
      "epoch: 91 ================================================== 100.00 / 100 \tloss: 0.4987 \taccuracy: 0.8596 \n",
      "epoch: 92 ================================================== 100.00 / 100 \tloss: 0.4956 \taccuracy: 0.8605 \n",
      "epoch: 93 ================================================== 100.00 / 100 \tloss: 0.4946 \taccuracy: 0.8612 \n",
      "epoch: 94 ================================================== 100.00 / 100 \tloss: 0.4932 \taccuracy: 0.8612 \n",
      "epoch: 95 ================================================== 100.00 / 100 \tloss: 0.4908 \taccuracy: 0.8615 \n",
      "epoch: 96 ================================================== 100.00 / 100 \tloss: 0.4929 \taccuracy: 0.8620 \n",
      "epoch: 97 ================================================== 100.00 / 100 \tloss: 0.4894 \taccuracy: 0.8625 \n",
      "epoch: 98 ================================================== 100.00 / 100 \tloss: 0.4884 \taccuracy: 0.8625 \n",
      "epoch: 99 ================================================== 100.00 / 100 \tloss: 0.4876 \taccuracy: 0.8629 \n",
      "epoch: 100 ================================================== 100.00 / 100 \tloss: 0.4863 \taccuracy: 0.8631 \n"
     ]
    },
    {
     "data": {
      "image/png": "[encoded data removed]",
      "text/plain": [
       "<Figure size 640x480 with 2 Axes>"
      ]
     },
     "metadata": {},
     "output_type": "display_data"
    }
   ],
   "source": [
    "model.train(X_train,y_train, epochs=100, cv = (X_test[:,:5000], y_test[:,:5000]))"
   ]
  },
  {
   "cell_type": "markdown",
   "id": "b9b85fe7-421a-46e8-9810-edc2c93c7f0e",
   "metadata": {},
   "source": [
    "The default loss in using Fully Connected layers is `mean_squared_error`. If the last layer is a Sofmax, the loss defaults to `cross_entropy`.\n",
    "At the end of the training, a graph is plot with loss (and accuracy if Softmax is used) in each epoch. You can also access the values using `model.metrics_list` attribute."
   ]
  },
  {
   "cell_type": "markdown",
   "id": "b200a571-5340-41cf-b353-684394a8bdef",
   "metadata": {},
   "source": [
    "## Generalization Error\n",
    "We can estimate the generalization error using the unseen data, i.e. test set that was not used in training.\n",
    "First we predict using the test input and then compare with the labels to get the accuracy"
   ]
  },
  {
   "cell_type": "code",
   "execution_count": 16,
   "id": "f9ab6676-9b9b-468d-88d4-a9d842823c13",
   "metadata": {},
   "outputs": [
    {
     "data": {
      "text/plain": [
       "array([[8.73644389e-067, 3.78473538e-004, 6.42129584e-008,\n",
       "        2.53193791e-002],\n",
       "       [1.17171858e-048, 4.33633657e-005, 4.23073202e-010,\n",
       "        9.23363181e-003],\n",
       "       [6.59517260e-027, 5.34942589e-004, 8.66442744e-008,\n",
       "        3.60544925e-002],\n",
       "       [1.00000000e+000, 1.70743897e-004, 5.05734026e-009,\n",
       "        1.53574360e-001],\n",
       "       [1.83197237e-048, 7.64554997e-002, 2.14875339e-002,\n",
       "        1.29811020e-002],\n",
       "       [7.67525744e-031, 3.48080827e-003, 3.65338988e-006,\n",
       "        9.15572818e-002],\n",
       "       [5.44358904e-221, 1.27530617e-005, 2.84416451e-011,\n",
       "        8.19851972e-003],\n",
       "       [1.78147359e-136, 3.71536291e-002, 2.99638118e-003,\n",
       "        2.27763419e-002],\n",
       "       [1.11647139e-020, 7.99599744e-003, 1.85366850e-005,\n",
       "        5.86107598e-001],\n",
       "       [8.68165984e-024, 8.73773789e-001, 9.75493739e-001,\n",
       "        5.41972931e-002]])"
      ]
     },
     "execution_count": 16,
     "metadata": {},
     "output_type": "execute_result"
    }
   ],
   "source": [
    "pred = model.predict(X_test[:,5000:])\n",
    "pred[:,:4]"
   ]
  },
  {
   "cell_type": "markdown",
   "id": "ef2d3b3f-9d04-4bbe-ba01-524d6ffbb2ef",
   "metadata": {},
   "source": [
    "Note that the predictions are Softmax probabilities for each category. We can convert them to the same as one-hot encoded pattern with the maximum value indices, convert back to labels using the `.inverse_transform()` method of OneHotEncoder and then compare values to get the accuracy. But, using the following code, we can get the test accuracy quicker."
   ]
  },
  {
   "cell_type": "code",
   "execution_count": 17,
   "id": "53fd033f-a65a-4d2c-bfb2-9681544b8708",
   "metadata": {},
   "outputs": [
    {
     "data": {
      "text/plain": [
       "0.8788"
      ]
     },
     "execution_count": 17,
     "metadata": {},
     "output_type": "execute_result"
    }
   ],
   "source": [
    "test_accuracy = (np.argmax(pred, axis=0) == np.argmax(y_test[:,5000:], axis=0)).mean()\n",
    "test_accuracy"
   ]
  },
  {
   "cell_type": "markdown",
   "id": "2ab5b7c5-1ebd-44ed-8342-e914fad292f0",
   "metadata": {},
   "source": [
    "That is a little over 87% accuracy with the given model and 100 epochs. We can further improve this by tuning hyperparameters: number of layers, layer size, learning rate, mini-batch size etc."
   ]
  },
  {
   "cell_type": "markdown",
   "id": "93387fbf-a0c7-42ee-b753-856092172499",
   "metadata": {},
   "source": [
    "## End Note\n",
    "Feel free to try out other examples with this neural network package. Your suggestions are welcome."
   ]
  }
 ],
 "metadata": {
  "kernelspec": {
   "display_name": "Python 3 (ipykernel)",
   "language": "python",
   "name": "python3"
  },
  "language_info": {
   "codemirror_mode": {
    "name": "ipython",
    "version": 3
   },
   "file_extension": ".py",
   "mimetype": "text/x-python",
   "name": "python",
   "nbconvert_exporter": "python",
   "pygments_lexer": "ipython3",
   "version": "3.11.2"
  }
 },
 "nbformat": 4,
 "nbformat_minor": 5
}
